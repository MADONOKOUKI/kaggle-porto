{
 "cells": [
  {
   "cell_type": "code",
   "execution_count": 1,
   "metadata": {
    "collapsed": true
   },
   "outputs": [],
   "source": [
    "import numpy as np\n",
    "import pandas as pd\n",
    "from logging import StreamHandler , DEBUG , Formatter, FileHandler ,getLogger\n",
    "from sklearn.linear_model import LogisticRegression\n",
    "from sklearn.model_selection import StratifiedKFold , ParameterGrid\n",
    "from load_data import load_train_data , load_test_data\n",
    "from sklearn.metrics import log_loss , roc_auc_score , roc_curve , auc\n",
    "from tqdm import tqdm"
   ]
  },
  {
   "cell_type": "code",
   "execution_count": 2,
   "metadata": {
    "collapsed": true
   },
   "outputs": [],
   "source": [
    "logger = getLogger(__name__)\n",
    "\n",
    "DIR = 'result_tmp/'\n",
    "SAMPLE_SUBMIT_FILE = '../input/sample_submission.csv'\n"
   ]
  },
  {
   "cell_type": "code",
   "execution_count": 3,
   "metadata": {
    "collapsed": true
   },
   "outputs": [],
   "source": [
    "def gini(y,pred):\n",
    "    fpr , tpr , thr = roc_curve(y , pred , pos_label = 1)\n",
    "    g = 2 * auc(fpr ,tpr ) - 1\n",
    "    return g"
   ]
  },
  {
   "cell_type": "code",
   "execution_count": 4,
   "metadata": {},
   "outputs": [
    {
     "name": "stderr",
     "output_type": "stream",
     "text": [
      "2018-01-27 07:05:32,671 __main__ 14 [INFO][<module>] start \n",
      "2018-01-27 07:05:35,795 __main__ 25 [INFO][<module>] data preparation end : (58,) ['id' 'ps_ind_01' 'ps_ind_02_cat' 'ps_ind_03' 'ps_ind_04_cat'\n",
      " 'ps_ind_05_cat' 'ps_ind_06_bin' 'ps_ind_07_bin' 'ps_ind_08_bin'\n",
      " 'ps_ind_09_bin' 'ps_ind_10_bin' 'ps_ind_11_bin' 'ps_ind_12_bin'\n",
      " 'ps_ind_13_bin' 'ps_ind_14' 'ps_ind_15' 'ps_ind_16_bin' 'ps_ind_17_bin'\n",
      " 'ps_ind_18_bin' 'ps_reg_01' 'ps_reg_02' 'ps_reg_03' 'ps_car_01_cat'\n",
      " 'ps_car_02_cat' 'ps_car_03_cat' 'ps_car_04_cat' 'ps_car_05_cat'\n",
      " 'ps_car_06_cat' 'ps_car_07_cat' 'ps_car_08_cat' 'ps_car_09_cat'\n",
      " 'ps_car_10_cat' 'ps_car_11_cat' 'ps_car_11' 'ps_car_12' 'ps_car_13'\n",
      " 'ps_car_14' 'ps_car_15' 'ps_calc_01' 'ps_calc_02' 'ps_calc_03'\n",
      " 'ps_calc_04' 'ps_calc_05' 'ps_calc_06' 'ps_calc_07' 'ps_calc_08'\n",
      " 'ps_calc_09' 'ps_calc_10' 'ps_calc_11' 'ps_calc_12' 'ps_calc_13'\n",
      " 'ps_calc_14' 'ps_calc_15_bin' 'ps_calc_16_bin' 'ps_calc_17_bin'\n",
      " 'ps_calc_18_bin' 'ps_calc_19_bin' 'ps_calc_20_bin']  \n",
      "2018-01-27 07:05:35,796 __main__ 27 [INFO][<module>] prepared data ended \n",
      "2018-01-27 07:05:45,055 __main__ 32 [INFO][<module>] learning phase ended (595212, 58) : \n",
      "  0%|          | 0/12 [00:00<?, ?it/s]2018-01-27 07:05:45,058 __main__ 43 [INFO][<module>] params : {'C': 0.1, 'fit_intercept': True, 'penalty': 'l2', 'random_state': 0} \n",
      "\n"
     ]
    },
    {
     "ename": "NameError",
     "evalue": "name 'ss_gini' is not defined",
     "output_type": "error",
     "traceback": [
      "\u001b[0;31m---------------------------------------------------------------------------\u001b[0m",
      "\u001b[0;31mNameError\u001b[0m                                 Traceback (most recent call last)",
      "\u001b[0;32m<ipython-input-4-06aa953def9f>\u001b[0m in \u001b[0;36m<module>\u001b[0;34m()\u001b[0m\n\u001b[1;32m     56\u001b[0m             \u001b[0msc_gini\u001b[0m \u001b[0;34m=\u001b[0m \u001b[0;34m-\u001b[0m \u001b[0mgini\u001b[0m\u001b[0;34m(\u001b[0m\u001b[0mval_y\u001b[0m\u001b[0;34m,\u001b[0m\u001b[0mpred\u001b[0m\u001b[0;34m)\u001b[0m\u001b[0;34m\u001b[0m\u001b[0m\n\u001b[1;32m     57\u001b[0m \u001b[0;31m#             logger.info('logloss : {} , auc : {}'.format(sc_logloss,sc_auc))\u001b[0m\u001b[0;34m\u001b[0m\u001b[0;34m\u001b[0m\u001b[0m\n\u001b[0;32m---> 58\u001b[0;31m             \u001b[0mlist_gini_score\u001b[0m\u001b[0;34m.\u001b[0m\u001b[0mappend\u001b[0m\u001b[0;34m(\u001b[0m\u001b[0mss_gini\u001b[0m\u001b[0;34m)\u001b[0m\u001b[0;34m\u001b[0m\u001b[0m\n\u001b[0m\u001b[1;32m     59\u001b[0m             \u001b[0mlist_logloss_score\u001b[0m\u001b[0;34m.\u001b[0m\u001b[0mappend\u001b[0m\u001b[0;34m(\u001b[0m\u001b[0msc_logloss\u001b[0m\u001b[0;34m)\u001b[0m\u001b[0;34m\u001b[0m\u001b[0m\n\u001b[1;32m     60\u001b[0m \u001b[0;34m\u001b[0m\u001b[0m\n",
      "\u001b[0;31mNameError\u001b[0m: name 'ss_gini' is not defined"
     ]
    }
   ],
   "source": [
    "if __name__  == '__main__':\n",
    "\n",
    "  log_fmt = Formatter('%(asctime)s %(name)s %(lineno)d [%(levelname)s][%(funcName)s] %(message)s ')\n",
    "  handler = StreamHandler()\n",
    "  handler.setLevel('INFO')\n",
    "  handler.setFormatter(log_fmt)\n",
    "  logger.addHandler(handler)\n",
    "\n",
    "  handler = FileHandler(DIR + 'train.py.log', 'a')\n",
    "  handler.setLevel(DEBUG)\n",
    "  handler.setFormatter(log_fmt)\n",
    "  logger.setLevel(DEBUG)\n",
    "\n",
    "  logger.info('start')\n",
    "\n",
    "  df = load_train_data()\n",
    "\n",
    "  x_train = df.drop('target' , axis =1 )\n",
    "  y_train = df['target'].values\n",
    "\n",
    "  use_cols = x_train.columns.values\n",
    "\n",
    "  logger.debug('train columns: {} {} '.format(use_cols.shape,use_cols))\n",
    "\n",
    "  logger.info('data preparation end : {} {} '.format(use_cols.shape,use_cols))\n",
    "\n",
    "  logger.info('prepared data ended')\n",
    "\n",
    "  clf = LogisticRegression(random_state = 0)\n",
    "  clf.fit(x_train,y_train)\n",
    "\n",
    "  logger.info('learning phase ended {} :'.format(x_train.shape))\n",
    "\n",
    "  cv =StratifiedKFold(n_splits = 5,shuffle = True)\n",
    "  # declare dictionary variable\n",
    "  all_params = {'C' : [10**i for i in range (-1,2)],\n",
    "                           'fit_intercept' : [True,False],\n",
    "                           'penalty' : ['l2','l1'],\n",
    "                           'random_state' : [0]}\n",
    "  min_score = 100\n",
    "  min_params = None\n",
    "  for params in tqdm(list(ParameterGrid(all_params))):\n",
    "      logger.info('params : {}'.format(params))\n",
    "    \n",
    "      list_gini_score = []\n",
    "      list_logloss_score = []\n",
    "      for train_idx , valid_idx in cv.split(x_train , y_train):\n",
    "            trn_x = x_train.iloc[train_idx, :]\n",
    "            val_x = x_train.iloc[valid_idx, :]\n",
    "            trn_y = y_train[train_idx]\n",
    "            val_y = y_train[valid_idx]\n",
    "            clf = LogisticRegression(**params)\n",
    "            clf.fit(trn_x,trn_y)\n",
    "            pred = clf.predict_proba(val_x)[:,1]\n",
    "            sc_logloss = log_loss(val_y,pred)\n",
    "            sc_gini = - gini(val_y,pred)\n",
    "#             logger.info('logloss : {} , auc : {}'.format(sc_logloss,sc_auc))\n",
    "            list_gini_score.append(sc_gini)\n",
    "            list_logloss_score.append(sc_logloss)\n",
    "      \n",
    "      sc_logloss = np.mean(list_logloss_score)\n",
    "      sc_gini = np.mean(list_gini_score)\n",
    "      logger.info('logloss : {} , gini : {}'.format(sc_logloss,sc_gini))\n",
    "      logger.info('current highest score gini : {} , params : {}'.format(min_score,min_params))  \n",
    "      if min_score > sc_gini : \n",
    "            min_score = sc_gini\n",
    "            min_params = params\n",
    "        \n",
    "  logger.info('logloss : {}'.format(np.mean(list_gini_score)))\n",
    "  logger.info('gini : {}'.format(np.mean(list_logloss_score)))\n",
    "  df = load_test_data()\n",
    "\n",
    "  x_test = df[use_cols].sort_values('id')\n",
    "\n",
    "  logger.info('test data load end {}'.format(x_test.shape))\n",
    "  pred_test = clf.predict_proba(x_test)\n",
    "\n",
    "  df_submit = pd.read_csv(SAMPLE_SUBMIT_FILE).sort_values('id')\n",
    "  df_submit['target'] = pred_test\n",
    "\n",
    "  df_submit.to_csv(DIR + 'submit.csv',index = False)\n",
    "\n",
    "  logger.info(df_submit)\n"
   ]
  },
  {
   "cell_type": "code",
   "execution_count": null,
   "metadata": {
    "collapsed": true
   },
   "outputs": [],
   "source": []
  },
  {
   "cell_type": "code",
   "execution_count": null,
   "metadata": {
    "collapsed": true
   },
   "outputs": [],
   "source": []
  }
 ],
 "metadata": {
  "kernelspec": {
   "display_name": "Python 3",
   "language": "python",
   "name": "python3"
  }
 },
 "nbformat": 4,
 "nbformat_minor": 2
}
